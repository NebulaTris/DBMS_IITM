{
 "cells": [
  {
   "attachments": {},
   "cell_type": "markdown",
   "metadata": {},
   "source": [
    "# WEEK 7 OPPE Practice Question 1 - Prime Jersey"
   ]
  },
  {
   "attachments": {},
   "cell_type": "markdown",
   "metadata": {},
   "source": [
    "## Problem Statement:\n",
    "In this question, you have to write a Python program to print the names of the players and the team of each player of all those players whose jersey number is a prime number. \n",
    "\n",
    "    1.The list should be ordered in reverse alphabetical order of player names. If two or more players have the same name, then further sorting should be done on the team name, again in reverse alphabetical order.\n",
    "\n",
    "    2.The format of output is as given below:\n",
    "    Name of the player, followed by a comma (,), then a space and then the team name.\n",
    "    \n",
    "    For example, if Arjun has jersey number 5 and is playing for All Stars and Pranav, with jersey number 7, is playing for team Amigos, then the output will be:\n",
    "    Pranav, Amigos\n",
    "    Arjun, All Stars"
   ]
  },
  {
   "cell_type": "code",
   "execution_count": 2,
   "metadata": {},
   "outputs": [
    {
     "ename": "ModuleNotFoundError",
     "evalue": "No module named 'psycopg2'",
     "output_type": "error",
     "traceback": [
      "\u001b[1;31m---------------------------------------------------------------------------\u001b[0m",
      "\u001b[1;31mModuleNotFoundError\u001b[0m                       Traceback (most recent call last)",
      "Cell \u001b[1;32mIn[2], line 3\u001b[0m\n\u001b[0;32m      1\u001b[0m \u001b[39mimport\u001b[39;00m \u001b[39msys\u001b[39;00m\n\u001b[0;32m      2\u001b[0m \u001b[39mimport\u001b[39;00m \u001b[39mos\u001b[39;00m\n\u001b[1;32m----> 3\u001b[0m \u001b[39mimport\u001b[39;00m \u001b[39mpsycopg2\u001b[39;00m\n\u001b[0;32m      5\u001b[0m \u001b[39mtry\u001b[39;00m:\n\u001b[0;32m      6\u001b[0m     connection \u001b[39m=\u001b[39m psycopg2\u001b[39m.\u001b[39mconnect(\n\u001b[0;32m      7\u001b[0m         database \u001b[39m=\u001b[39m sys\u001b[39m.\u001b[39margv[\u001b[39m1\u001b[39m],\n\u001b[0;32m      8\u001b[0m         user \u001b[39m=\u001b[39m os\u001b[39m.\u001b[39menviron\u001b[39m.\u001b[39mget(\u001b[39m'\u001b[39m\u001b[39mPGUSER\u001b[39m\u001b[39m'\u001b[39m),\n\u001b[0;32m      9\u001b[0m         password \u001b[39m=\u001b[39m os\u001b[39m.\u001b[39menviron\u001b[39m.\u001b[39mget(\u001b[39m'\u001b[39m\u001b[39mPGPASSWORD\u001b[39m\u001b[39m'\u001b[39m),\n\u001b[0;32m     10\u001b[0m         host \u001b[39m=\u001b[39m os\u001b[39m.\u001b[39menviron\u001b[39m.\u001b[39mget(\u001b[39m'\u001b[39m\u001b[39mPGHOST\u001b[39m\u001b[39m'\u001b[39m),\n\u001b[0;32m     11\u001b[0m         port \u001b[39m=\u001b[39m os\u001b[39m.\u001b[39menviron\u001b[39m.\u001b[39mget(\u001b[39m'\u001b[39m\u001b[39mPGPORT\u001b[39m\u001b[39m'\u001b[39m))\n",
      "\u001b[1;31mModuleNotFoundError\u001b[0m: No module named 'psycopg2'"
     ]
    }
   ],
   "source": [
    "import sys\n",
    "import os\n",
    "import psycopg2\n",
    "\n",
    "try:\n",
    "    connection = psycopg2.connect(\n",
    "        database = sys.argv[1],\n",
    "        user = os.environ.get('PGUSER'),\n",
    "        password = os.environ.get('PGPASSWORD'),\n",
    "        host = os.environ.get('PGHOST'),\n",
    "        port = os.environ.get('PGPORT'))\n",
    "        \n",
    "    cursor = connection.cursor()\n",
    "    query = \"select players.name, teams.name, players.jersey_no from teams, players where players.team_id = teams.team_id\"\n",
    "    \n",
    "    cursor.execute(query)\n",
    "    \n",
    "    result = cursor.fetchall()\n",
    "    \n",
    "    def prime(n):\n",
    "        if n<=1:\n",
    "            return False\n",
    "        for i in range(2,n):\n",
    "            if n%i==0:\n",
    "                return False\n",
    "        return True\n",
    "    final_res = []\n",
    "    for res in result:\n",
    "        if prime(res[2]):\n",
    "            final_res.append(res[0]+\", \"+res[1])\n",
    "            \n",
    "    final_res.sort(reverse=True)\n",
    "    \n",
    "    for final in final_res:\n",
    "        print(final)\n",
    "    \n",
    "    cursor.close()\n",
    "except(Exception, psycopg2.DatabaseError) as error:\n",
    "    print(error)\n",
    "finally:\n",
    "    connection"
   ]
  }
 ],
 "metadata": {
  "kernelspec": {
   "display_name": "base",
   "language": "python",
   "name": "python3"
  },
  "language_info": {
   "codemirror_mode": {
    "name": "ipython",
    "version": 3
   },
   "file_extension": ".py",
   "mimetype": "text/x-python",
   "name": "python",
   "nbconvert_exporter": "python",
   "pygments_lexer": "ipython3",
   "version": "3.10.9"
  },
  "orig_nbformat": 4
 },
 "nbformat": 4,
 "nbformat_minor": 2
}
